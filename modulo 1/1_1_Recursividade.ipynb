{
  "cells": [
    {
      "cell_type": "markdown",
      "id": "c87bc264",
      "metadata": {
        "id": "c87bc264"
      },
      "source": [
        "> Projeto Desenvolve <br>\n",
        "Programação Intermediária com Python <br>\n",
        "Profa. Camila Laranjeira (mila@projetodesenvolve.com.br) <br>\n",
        "\n",
        "# 1.1 - Recursividade"
      ]
    },
    {
      "cell_type": "markdown",
      "id": "02e47197",
      "metadata": {
        "id": "02e47197"
      },
      "source": [
        "## Exercícios:\n",
        "\n",
        "#### **Q1**.\n",
        "Faça um procedimento recursivo que receba dois valores inteiros `a` e `b` e imprime o intervalo fechado entre eles. Se `a > b` imprima uma mensagem de erro.\n",
        "\n",
        "| Entrada | Saída |\n",
        "| ------- | ------ |\n",
        "| 1 10    | 1 2 3 4 5 6 7 8 9 10 |\n",
        "| -5 1    | -5 -4 -3 -2 -1 |\n",
        "| 5 -5    | Valores invalidos |\n",
        "| 17 20   | 17 18 19 20 |"
      ]
    },
    {
      "cell_type": "code",
      "execution_count": 8,
      "id": "e89a9966",
      "metadata": {
        "colab": {
          "base_uri": "https://localhost:8080/"
        },
        "id": "e89a9966",
        "outputId": "3a9c7bbe-3fe1-4470-aa44-233d94c8e731"
      },
      "outputs": [
        {
          "output_type": "stream",
          "name": "stdout",
          "text": [
            "1 2 3 4 5 6 7 8 9 10 \n",
            "-5 -4 -3 -2 -1 0 1 \n",
            "Valores inválidos\n",
            "17 18 19 20 "
          ]
        }
      ],
      "source": [
        "def imprimir_intervalo(a, b):\n",
        "    if a > b:\n",
        "        print(\"Valores inválidos\")\n",
        "    else:\n",
        "        print(a, end=\" \")\n",
        "        if a < b:\n",
        "            imprimir_intervalo(a + 1, b)\n",
        "\n",
        "# Entrada 1 e 10\n",
        "imprimir_intervalo(1, 10)\n",
        "print()\n",
        "# Entrada -5 e 1\n",
        "imprimir_intervalo(-5, 1)\n",
        "print()\n",
        "# Entrada Invalida\n",
        "imprimir_intervalo(5, -5)\n",
        "# Entrada 17 e 20\n",
        "imprimir_intervalo(17, 20)"
      ]
    },
    {
      "cell_type": "markdown",
      "id": "b48196ed",
      "metadata": {
        "id": "b48196ed"
      },
      "source": [
        "---\n",
        "\n",
        "\n",
        "#### **Q2**.\n",
        "Mudando **apenas uma linha**, altere o código anterior para imprimir o intervalo invertido.\n",
        "\n",
        "| Entrada |  Saída |\n",
        "| ------- | ------ |\n",
        "| 1 10    | 10 9 8 7 6 5 4 3 2 1 |\n",
        "| -5 1    | -1 -2 -3 -4 -5 |\n",
        "| 5 -5    | Valores invalidos |\n",
        "| 17 20   | 20 19 18 17 |"
      ]
    },
    {
      "cell_type": "code",
      "execution_count": 7,
      "id": "4d0c21b4",
      "metadata": {
        "id": "4d0c21b4",
        "colab": {
          "base_uri": "https://localhost:8080/"
        },
        "outputId": "bfb57f89-b26c-4c90-ef56-d50c7ec7f369"
      },
      "outputs": [
        {
          "output_type": "stream",
          "name": "stdout",
          "text": [
            "10 9 8 7 6 5 4 3 2 1 \n",
            "1 0 -1 -2 -3 -4 -5 \n",
            "Valores inválidos\n",
            "20 19 18 17 "
          ]
        }
      ],
      "source": [
        "def imprimir_intervalo(a, b):\n",
        "    if a > b:\n",
        "        print(\"Valores inválidos\")\n",
        "    else:\n",
        "        print(b, end=\" \")\n",
        "        if a < b:\n",
        "            imprimir_intervalo(a, b - 1)\n",
        "\n",
        "# Entrada 1 e 10\n",
        "imprimir_intervalo(1, 10)\n",
        "print()\n",
        "# Entrada -5 e 1\n",
        "imprimir_intervalo(-5, 1)\n",
        "print()\n",
        "# Entrada Invalida\n",
        "imprimir_intervalo(5, -5)\n",
        "# Entrada 17 e 20\n",
        "imprimir_intervalo(17, 20)"
      ]
    },
    {
      "cell_type": "markdown",
      "id": "be727074",
      "metadata": {
        "id": "be727074"
      },
      "source": [
        "\n",
        "\n",
        "---\n",
        "\n",
        "\n",
        "#### **Q3**.\n",
        "Escreva uma função recursiva que recebe um inteiro `n > 1` e calcula a soma dos valores entre `n` e `1`.\n",
        "\n",
        "| Entrada |  Saída |\n",
        "| ------- | ------ |\n",
        "| 5   | 15 |\n",
        "| 13  | 78 |"
      ]
    },
    {
      "cell_type": "code",
      "execution_count": 19,
      "id": "c4da98b8",
      "metadata": {
        "id": "c4da98b8",
        "colab": {
          "base_uri": "https://localhost:8080/"
        },
        "outputId": "7e6af561-7f67-411d-a3b2-7570c3957e8d"
      },
      "outputs": [
        {
          "output_type": "stream",
          "name": "stdout",
          "text": [
            "15\n",
            "91\n"
          ]
        }
      ],
      "source": [
        "def somar_invervalo(n):\n",
        "  if n > 1:\n",
        "    return n + somar_invervalo(n - 1)\n",
        "  else:\n",
        "    return 1\n",
        "\n",
        "print(somar_invervalo(5))\n",
        "print(somar_invervalo(13))"
      ]
    },
    {
      "cell_type": "markdown",
      "id": "4142b276",
      "metadata": {
        "id": "4142b276"
      },
      "source": [
        "\n",
        "\n",
        "---\n",
        "\n",
        "\n",
        "#### **Q4**.  \n",
        "\n",
        "Escreva uma função recursiva que recebe um inteiro `n` e verifica se `n`é um valor primo, ou seja, se é divisível apenas por si mesmo e por `1`."
      ]
    },
    {
      "cell_type": "code",
      "execution_count": 40,
      "id": "4c96eb2d",
      "metadata": {
        "id": "4c96eb2d",
        "colab": {
          "base_uri": "https://localhost:8080/"
        },
        "outputId": "d80f937e-e4dc-4930-d5a6-60819c3ee206"
      },
      "outputs": [
        {
          "output_type": "stream",
          "name": "stdout",
          "text": [
            "O valor 10 não é um número primo\n",
            "O valor 7 é um número primo\n",
            "O valor 3 é um número primo\n",
            "O valor 4 não é um número primo\n"
          ]
        }
      ],
      "source": [
        "def primo(n):\n",
        "    if n < 2:\n",
        "        print(f'O valor {n} não é um número primo')\n",
        "        return\n",
        "    for i in range(2, int(n ** 0.5) + 1):\n",
        "        if n % i == 0:\n",
        "            print(f'O valor {n} não é um número primo')\n",
        "            return\n",
        "    print(f'O valor {n} é um número primo')\n",
        "\n",
        "primo(10)\n",
        "primo(7)\n",
        "primo(3)\n",
        "primo(4)\n"
      ]
    },
    {
      "cell_type": "markdown",
      "id": "2a0ae81c",
      "metadata": {
        "id": "2a0ae81c"
      },
      "source": [
        "\n",
        "\n",
        "---\n",
        "\n",
        "\n",
        "#### **Q5**.\n",
        "Implemente uma função recursiva que recebe um número inteiro decimal e retorna sua representação binária como uma string. Para realizar essa conversão, utilize o método de divisão sucessiva, onde você divide o número decimal por 2 e coleta os restos até que o quociente seja zero. A ordem dos restos coletados, de baixo para cima, forma o número binário correspondente.\n",
        "\n",
        "**Exemplo de Conversão:**\n",
        "\n",
        "Para converter o número decimal 13 para binário:\n",
        "```\n",
        "13 ÷ 2 = 6, resto 1\n",
        "6 ÷ 2 = 3, resto 0\n",
        "3 ÷ 2 = 1, resto 1\n",
        "1 ÷ 2 = 0, resto 1\n",
        "```\n",
        "Lendo os restos de baixo para cima, obtemos o número binário `1101`."
      ]
    },
    {
      "cell_type": "code",
      "execution_count": 46,
      "id": "a7d954f0",
      "metadata": {
        "id": "a7d954f0",
        "colab": {
          "base_uri": "https://localhost:8080/"
        },
        "outputId": "afc1f742-b4fe-4b0b-8f9d-ea1f4d83ba71"
      },
      "outputs": [
        {
          "output_type": "stream",
          "name": "stdout",
          "text": [
            "1101\n"
          ]
        }
      ],
      "source": [
        "def decimal_para_binario(n):\n",
        "    if n == 0:\n",
        "        return \"0\"\n",
        "    if n == 1:\n",
        "        return \"1\"\n",
        "    return decimal_para_binario(n // 2) + str(n % 2)\n",
        "\n",
        "print(decimal_para_binario(13))"
      ]
    },
    {
      "cell_type": "markdown",
      "id": "0f500709",
      "metadata": {
        "id": "0f500709"
      },
      "source": [
        "---\n",
        "\n",
        "\n",
        "#### **Extra**:\n",
        "\n",
        "Implemente uma função recursiva em Python que realiza a travessia em pré-ordem de uma árvore binária representada por listas aninhadas. Na travessia em pré-ordem (ou pré-fixada), o nó raiz é visitado primeiro, seguido pela subárvore esquerda e, por fim, pela subárvore direita. A questão fixa as constantes `RAIZ_IDX, ESQ_IDX, DIR_IDX` representando os índices da lista onde se encontra o valor raíz, o nó a esquerda e o nó a direita.\n",
        "\n",
        "```\n",
        "# Representação visual da árvore\n",
        "       4\n",
        "      / \\\n",
        "     2   5\n",
        "    / \\\n",
        "   1   3\n",
        "```"
      ]
    },
    {
      "cell_type": "code",
      "execution_count": 52,
      "id": "10df4831",
      "metadata": {
        "id": "10df4831",
        "colab": {
          "base_uri": "https://localhost:8080/"
        },
        "outputId": "4c35f427-13b4-4a4a-b59a-1d00ee6cda78"
      },
      "outputs": [
        {
          "output_type": "stream",
          "name": "stdout",
          "text": [
            "[4, 2, 1, 3, 5]\n"
          ]
        }
      ],
      "source": [
        "RAIZ_IDX, ESQ_IDX, DIR_IDX = 0, 1, 2\n",
        "\n",
        "arvore = [\n",
        "    4,              # raíz, nível 0\n",
        "    [               # ramo da esquerda, nível 1\n",
        "        2,          # valor filho esquerda\n",
        "        [1, None, None],   # ramo da esquerda, nível 2\n",
        "        [3, None, None]    # ramo da direita, nível 2\n",
        "    ],\n",
        "    [               # ramo da direita, nível 1\n",
        "        5,          # valor filho da direita\n",
        "        None,              # ramo da esquerda, nível 2\n",
        "        None               # ramo da direita, nível 2\n",
        "    ]\n",
        "]"
      ]
    }
  ],
  "metadata": {
    "kernelspec": {
      "display_name": "Python 3 (ipykernel)",
      "language": "python",
      "name": "python3"
    },
    "language_info": {
      "codemirror_mode": {
        "name": "ipython",
        "version": 3
      },
      "file_extension": ".py",
      "mimetype": "text/x-python",
      "name": "python",
      "nbconvert_exporter": "python",
      "pygments_lexer": "ipython3",
      "version": "3.9.6"
    },
    "colab": {
      "provenance": []
    }
  },
  "nbformat": 4,
  "nbformat_minor": 5
}